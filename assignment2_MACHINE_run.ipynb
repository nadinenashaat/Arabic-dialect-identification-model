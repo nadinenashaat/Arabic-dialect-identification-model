{
  "cells": [
    {
      "cell_type": "code",
      "source": [
        "# !pip install tensorflow\n",
        "!pip install pyarabic\n",
        "!pip install nltk\n"
      ],
      "metadata": {
        "id": "2BlEG9qD_X93",
        "colab": {
          "base_uri": "https://localhost:8080/"
        },
        "outputId": "d25d19a5-8af8-4fb3-f5cf-79377d5fe02a"
      },
      "execution_count": 1,
      "outputs": [
        {
          "output_type": "stream",
          "name": "stdout",
          "text": [
            "Looking in indexes: https://pypi.org/simple, https://us-python.pkg.dev/colab-wheels/public/simple/\n",
            "Collecting pyarabic\n",
            "  Downloading PyArabic-0.6.15-py3-none-any.whl (126 kB)\n",
            "\u001b[2K     \u001b[90m━━━━━━━━━━━━━━━━━━━━━━━━━━━━━━━━━━━━━━━\u001b[0m \u001b[32m126.4/126.4 kB\u001b[0m \u001b[31m2.8 MB/s\u001b[0m eta \u001b[36m0:00:00\u001b[0m\n",
            "\u001b[?25hRequirement already satisfied: six>=1.14.0 in /usr/local/lib/python3.10/dist-packages (from pyarabic) (1.16.0)\n",
            "Installing collected packages: pyarabic\n",
            "Successfully installed pyarabic-0.6.15\n",
            "Looking in indexes: https://pypi.org/simple, https://us-python.pkg.dev/colab-wheels/public/simple/\n",
            "Requirement already satisfied: nltk in /usr/local/lib/python3.10/dist-packages (3.8.1)\n",
            "Requirement already satisfied: click in /usr/local/lib/python3.10/dist-packages (from nltk) (8.1.3)\n",
            "Requirement already satisfied: joblib in /usr/local/lib/python3.10/dist-packages (from nltk) (1.2.0)\n",
            "Requirement already satisfied: regex>=2021.8.3 in /usr/local/lib/python3.10/dist-packages (from nltk) (2022.10.31)\n",
            "Requirement already satisfied: tqdm in /usr/local/lib/python3.10/dist-packages (from nltk) (4.65.0)\n"
          ]
        }
      ]
    },
    {
      "cell_type": "code",
      "execution_count": 2,
      "metadata": {
        "id": "oO3KHzV0-KKG"
      },
      "outputs": [],
      "source": [
        "import pandas as pd\n",
        "import pyarabic.araby as araby\n",
        "import nltk\n",
        "import numpy as np\n",
        "import re\n",
        "from nltk.corpus import stopwords\n",
        "from nltk.tokenize import word_tokenize\n",
        "from gensim.models import FastText\n",
        "import time\n",
        "from sklearn import svm\n",
        "from sklearn.model_selection import train_test_split\n",
        "from sklearn.metrics import classification_report\n",
        "from sklearn.feature_extraction.text import TfidfVectorizer, CountVectorizer\n",
        "import tensorflow as tf\n",
        "from sklearn.preprocessing import LabelEncoder\n",
        "from sklearn.naive_bayes import MultinomialNB\n",
        "from sklearn.feature_extraction.text import TfidfVectorizer\n",
        "from sklearn.model_selection import train_test_split\n",
        "from keras.models import Sequential\n",
        "from keras.layers import Dense, LSTM\n",
        "\n",
        "\n"
      ]
    },
    {
      "cell_type": "code",
      "execution_count": 3,
      "metadata": {
        "colab": {
          "base_uri": "https://localhost:8080/"
        },
        "id": "pkfcsYNfLbA0",
        "outputId": "038dd0e6-02ea-47cd-b79c-59a4fa677aea"
      },
      "outputs": [
        {
          "output_type": "stream",
          "name": "stderr",
          "text": [
            "[nltk_data] Downloading package punkt to /root/nltk_data...\n",
            "[nltk_data]   Unzipping tokenizers/punkt.zip.\n",
            "[nltk_data] Downloading package stopwords to /root/nltk_data...\n",
            "[nltk_data]   Unzipping corpora/stopwords.zip.\n"
          ]
        }
      ],
      "source": [
        "#downloading arabic stop words to remove from text\n",
        "nltk.download('punkt')\n",
        "nltk.download('stopwords')\n",
        "arab_words=stopwords.words('arabic')"
      ]
    },
    {
      "cell_type": "code",
      "execution_count": 4,
      "metadata": {
        "id": "oWIgw8DtD3_d"
      },
      "outputs": [],
      "source": [
        "data = pd.read_csv('/content/nlp.csv')\n"
      ]
    },
    {
      "cell_type": "code",
      "execution_count": 5,
      "metadata": {
        "id": "Q6cN2jnUt4QW"
      },
      "outputs": [],
      "source": [
        "data= data.sample(n=10000,replace=True)\n",
        "#radomly chose rows as it took long to process 400k rows:)"
      ]
    },
    {
      "cell_type": "markdown",
      "metadata": {
        "id": "7yR7e1TdGkT2"
      },
      "source": [
        "\n",
        "**DATA PREPROCESSING**"
      ]
    },
    {
      "cell_type": "code",
      "execution_count": 6,
      "metadata": {
        "id": "hst_oZB-_08n"
      },
      "outputs": [],
      "source": [
        "#dropping nulls\n",
        "data=data.dropna()\n"
      ]
    },
    {
      "cell_type": "code",
      "execution_count": 7,
      "metadata": {
        "colab": {
          "base_uri": "https://localhost:8080/"
        },
        "id": "pMkUcIhe2cCC",
        "outputId": "9cc52e78-7431-40ad-ee91-b22624f01c02"
      },
      "outputs": [
        {
          "output_type": "execute_result",
          "data": {
            "text/plain": [
              "Index(['id', 'dialect', 'transformed', 'fineText', 'codes', 'normalized',\n",
              "       'diacritics', 'stop_words'],\n",
              "      dtype='object')"
            ]
          },
          "metadata": {},
          "execution_count": 7
        }
      ],
      "source": [
        " #created empty columns to observe if the change was made with each preprocessing technique\n",
        "data[\"codes\"] = \"\"\n",
        "data[\"normalized\"] = \"\"\n",
        "data[\"diacritics\"] = \"\"\n",
        "data[\"stop_words\"] = \"\"\n",
        "\n",
        "data.columns"
      ]
    },
    {
      "cell_type": "code",
      "execution_count": 8,
      "metadata": {
        "id": "VpvoXtEY2cCD"
      },
      "outputs": [],
      "source": [
        "data['fineText']=data['fineText'].astype(str)"
      ]
    },
    {
      "cell_type": "code",
      "execution_count": 9,
      "metadata": {
        "id": "Kl_jeKDh2cCD"
      },
      "outputs": [],
      "source": [
        "#remove escsape codes\n",
        "data['code'] = data['fineText'].apply(lambda x:x.strip(\"\\n\"))\n",
        "data['code'] = data['fineText'].apply(lambda x:x.strip(\"\\t\"))\n",
        "data['code'] = data['fineText'].apply(lambda x:x.strip(\"\\\\\"))\n",
        "data['code'] = data['fineText'].apply(lambda x:x.strip())\n"
      ]
    },
    {
      "cell_type": "code",
      "execution_count": 10,
      "metadata": {
        "id": "o-3Qd-Rz2cCD"
      },
      "outputs": [],
      "source": [
        "#normalize words\n",
        "data['normalized'] = data['code'].apply(lambda x:re.sub(\"[إأٱآا]\", \"ا\", x))\n",
        "data['normalized'] = data['code'].apply(lambda x:re.sub( \"ي\",\"ى\", x))\n",
        "data['normalized'] = data['code'].apply(lambda x:re.sub(\"ة\", \"ه\", x))\n"
      ]
    },
    {
      "cell_type": "code",
      "execution_count": 11,
      "metadata": {
        "id": "mkabqzfp2cCP"
      },
      "outputs": [],
      "source": [
        "#remove tashkeel\n",
        "data['diacritics'] = data['normalized'].apply(lambda x:araby.strip_tashkeel(x))\n",
        "\n"
      ]
    },
    {
      "cell_type": "code",
      "execution_count": 12,
      "metadata": {
        "id": "axdB7c_G2cCP"
      },
      "outputs": [],
      "source": [
        "# data['diacritics'] = data['diacritics'].apply(word_tokenize)\n"
      ]
    },
    {
      "cell_type": "code",
      "execution_count": 13,
      "metadata": {
        "id": "hVji8WGS2cCP"
      },
      "outputs": [],
      "source": [
        "# remove stop words\n",
        "#stop words is the final column after all the changes, i did it for you to observe the change but then i noticed the data is already preprocessed:)\n",
        "data['stop_words'] = data['diacritics'].apply(lambda x:[word for word in x if word not in arab_words])\n"
      ]
    },
    {
      "cell_type": "code",
      "execution_count": 14,
      "metadata": {
        "id": "rA1T36KZ3GdW",
        "outputId": "694e08e8-2292-4fc9-bb0d-ab1dd5c3735e",
        "colab": {
          "base_uri": "https://localhost:8080/",
          "height": 641
        }
      },
      "outputs": [
        {
          "output_type": "execute_result",
          "data": {
            "text/plain": [
              "                         id dialect  transformed  \\\n",
              "454034   114802931177504768      BH           17   \n",
              "61055   1065594219220410368      QA            2   \n",
              "366894  1124966543882895360      KW           13   \n",
              "217633   696033302889639936      SA            8   \n",
              "416298   979069686708166784      AE           16   \n",
              "...                     ...     ...          ...   \n",
              "123643   954506738379689984      PL            3   \n",
              "147300  1118230775554506752      TN            5   \n",
              "21577   1169961161779027968      LY            1   \n",
              "353966  1000376594467360768      KW           13   \n",
              "230307  1159064569769320448      DZ           10   \n",
              "\n",
              "                                                 fineText codes  \\\n",
              "454034  ['هذى'] ['صوره'] ['الجنازه'] ['شكلها'] ['واحد'...         \n",
              "61055                ['عندك'] ['مانع'] ['لاسمح'] ['الله']         \n",
              "366894        ['كاك'] ['لا'] ['صج'] ['شصاير'] ['بالدنيا']         \n",
              "217633          ['ماتت'] ['الحماره'] ['وعقبال'] ['الجحش']         \n",
              "416298                 ['ربى'] ['يحفظج'] ['من'] ['العين']         \n",
              "...                                                   ...   ...   \n",
              "123643    ['وراك'] ['وراك'] ['والمافيا'] ['طول'] ['معاك']         \n",
              "147300  ['الغاها'] ['الكلب'] ['بلننى'] ['صحيح'] ['يا']...         \n",
              "21577   ['مش'] ['بطريقه'] ['هذى'] ['يتغيروا'] ['فى'] [...         \n",
              "353966   ['الله'] ['يجمل'] ['عيونك'] ['ويديم'] ['سعادتك']         \n",
              "230307  ['ما'] ['عندى'] ['ما'] ['نقول'] ['راك'] ['عارف...         \n",
              "\n",
              "                                  normalized  \\\n",
              "454034        هذى صوره الجنازه شكلها واحد بس   \n",
              "61055                   عندك مانع لاسمح الله   \n",
              "366894               كاك لا صج شصاير بالدنيا   \n",
              "217633             ماتت الحماره وعقبال الجحش   \n",
              "416298                    ربى يحفظج من العين   \n",
              "...                                      ...   \n",
              "123643           وراك وراك والمافيا طول معاك   \n",
              "147300        الغاها الكلب بلننى صحيح يا كلب   \n",
              "21577   مش بطريقه هذى يتغيروا فى حلولوا اخرى   \n",
              "353966          الله يجمل عيونك ويديم سعادتك   \n",
              "230307  ما عندى ما نقول راك عارف قيمتك عنديه   \n",
              "\n",
              "                                  diacritics             stop_words  \\\n",
              "454034        هذى صوره الجنازه شكلها واحد بس        [ ,  ,  ,  ,  ]   \n",
              "61055                   عندك مانع لاسمح الله              [ ,  ,  ]   \n",
              "366894               كاك لا صج شصاير بالدنيا           [ ,  ,  ,  ]   \n",
              "217633             ماتت الحماره وعقبال الجحش              [ ,  ,  ]   \n",
              "416298                    ربى يحفظج من العين              [ ,  ,  ]   \n",
              "...                                      ...                    ...   \n",
              "123643           وراك وراك والمافيا طول معاك           [ ,  ,  ,  ]   \n",
              "147300        الغاها الكلب بلننى صحيح يا كلب        [ ,  ,  ,  ,  ]   \n",
              "21577   مش بطريقه هذى يتغيروا فى حلولوا اخرى     [ ,  ,  ,  ,  ,  ]   \n",
              "353966          الله يجمل عيونك ويديم سعادتك           [ ,  ,  ,  ]   \n",
              "230307  ما عندى ما نقول راك عارف قيمتك عنديه  [ ,  ,  ,  ,  ,  ,  ]   \n",
              "\n",
              "                                        code  \n",
              "454034        هذى صوره الجنازه شكلها واحد بس  \n",
              "61055                   عندك مانع لاسمح الله  \n",
              "366894               كاك لا صج شصاير بالدنيا  \n",
              "217633             ماتت الحماره وعقبال الجحش  \n",
              "416298                    ربى يحفظج من العين  \n",
              "...                                      ...  \n",
              "123643           وراك وراك والمافيا طول معاك  \n",
              "147300        الغاها الكلب بلننى صحيح يا كلب  \n",
              "21577   مش بطريقه هذى يتغيروا فى حلولوا اخرى  \n",
              "353966          الله يجمل عيونك ويديم سعادتك  \n",
              "230307  ما عندى ما نقول راك عارف قيمتك عنديه  \n",
              "\n",
              "[9999 rows x 9 columns]"
            ],
            "text/html": [
              "\n",
              "  <div id=\"df-5a4db279-63df-4ba0-b80d-57bccf1f5b4c\">\n",
              "    <div class=\"colab-df-container\">\n",
              "      <div>\n",
              "<style scoped>\n",
              "    .dataframe tbody tr th:only-of-type {\n",
              "        vertical-align: middle;\n",
              "    }\n",
              "\n",
              "    .dataframe tbody tr th {\n",
              "        vertical-align: top;\n",
              "    }\n",
              "\n",
              "    .dataframe thead th {\n",
              "        text-align: right;\n",
              "    }\n",
              "</style>\n",
              "<table border=\"1\" class=\"dataframe\">\n",
              "  <thead>\n",
              "    <tr style=\"text-align: right;\">\n",
              "      <th></th>\n",
              "      <th>id</th>\n",
              "      <th>dialect</th>\n",
              "      <th>transformed</th>\n",
              "      <th>fineText</th>\n",
              "      <th>codes</th>\n",
              "      <th>normalized</th>\n",
              "      <th>diacritics</th>\n",
              "      <th>stop_words</th>\n",
              "      <th>code</th>\n",
              "    </tr>\n",
              "  </thead>\n",
              "  <tbody>\n",
              "    <tr>\n",
              "      <th>454034</th>\n",
              "      <td>114802931177504768</td>\n",
              "      <td>BH</td>\n",
              "      <td>17</td>\n",
              "      <td>['هذى'] ['صوره'] ['الجنازه'] ['شكلها'] ['واحد'...</td>\n",
              "      <td></td>\n",
              "      <td>هذى صوره الجنازه شكلها واحد بس</td>\n",
              "      <td>هذى صوره الجنازه شكلها واحد بس</td>\n",
              "      <td>[ ,  ,  ,  ,  ]</td>\n",
              "      <td>هذى صوره الجنازه شكلها واحد بس</td>\n",
              "    </tr>\n",
              "    <tr>\n",
              "      <th>61055</th>\n",
              "      <td>1065594219220410368</td>\n",
              "      <td>QA</td>\n",
              "      <td>2</td>\n",
              "      <td>['عندك'] ['مانع'] ['لاسمح'] ['الله']</td>\n",
              "      <td></td>\n",
              "      <td>عندك مانع لاسمح الله</td>\n",
              "      <td>عندك مانع لاسمح الله</td>\n",
              "      <td>[ ,  ,  ]</td>\n",
              "      <td>عندك مانع لاسمح الله</td>\n",
              "    </tr>\n",
              "    <tr>\n",
              "      <th>366894</th>\n",
              "      <td>1124966543882895360</td>\n",
              "      <td>KW</td>\n",
              "      <td>13</td>\n",
              "      <td>['كاك'] ['لا'] ['صج'] ['شصاير'] ['بالدنيا']</td>\n",
              "      <td></td>\n",
              "      <td>كاك لا صج شصاير بالدنيا</td>\n",
              "      <td>كاك لا صج شصاير بالدنيا</td>\n",
              "      <td>[ ,  ,  ,  ]</td>\n",
              "      <td>كاك لا صج شصاير بالدنيا</td>\n",
              "    </tr>\n",
              "    <tr>\n",
              "      <th>217633</th>\n",
              "      <td>696033302889639936</td>\n",
              "      <td>SA</td>\n",
              "      <td>8</td>\n",
              "      <td>['ماتت'] ['الحماره'] ['وعقبال'] ['الجحش']</td>\n",
              "      <td></td>\n",
              "      <td>ماتت الحماره وعقبال الجحش</td>\n",
              "      <td>ماتت الحماره وعقبال الجحش</td>\n",
              "      <td>[ ,  ,  ]</td>\n",
              "      <td>ماتت الحماره وعقبال الجحش</td>\n",
              "    </tr>\n",
              "    <tr>\n",
              "      <th>416298</th>\n",
              "      <td>979069686708166784</td>\n",
              "      <td>AE</td>\n",
              "      <td>16</td>\n",
              "      <td>['ربى'] ['يحفظج'] ['من'] ['العين']</td>\n",
              "      <td></td>\n",
              "      <td>ربى يحفظج من العين</td>\n",
              "      <td>ربى يحفظج من العين</td>\n",
              "      <td>[ ,  ,  ]</td>\n",
              "      <td>ربى يحفظج من العين</td>\n",
              "    </tr>\n",
              "    <tr>\n",
              "      <th>...</th>\n",
              "      <td>...</td>\n",
              "      <td>...</td>\n",
              "      <td>...</td>\n",
              "      <td>...</td>\n",
              "      <td>...</td>\n",
              "      <td>...</td>\n",
              "      <td>...</td>\n",
              "      <td>...</td>\n",
              "      <td>...</td>\n",
              "    </tr>\n",
              "    <tr>\n",
              "      <th>123643</th>\n",
              "      <td>954506738379689984</td>\n",
              "      <td>PL</td>\n",
              "      <td>3</td>\n",
              "      <td>['وراك'] ['وراك'] ['والمافيا'] ['طول'] ['معاك']</td>\n",
              "      <td></td>\n",
              "      <td>وراك وراك والمافيا طول معاك</td>\n",
              "      <td>وراك وراك والمافيا طول معاك</td>\n",
              "      <td>[ ,  ,  ,  ]</td>\n",
              "      <td>وراك وراك والمافيا طول معاك</td>\n",
              "    </tr>\n",
              "    <tr>\n",
              "      <th>147300</th>\n",
              "      <td>1118230775554506752</td>\n",
              "      <td>TN</td>\n",
              "      <td>5</td>\n",
              "      <td>['الغاها'] ['الكلب'] ['بلننى'] ['صحيح'] ['يا']...</td>\n",
              "      <td></td>\n",
              "      <td>الغاها الكلب بلننى صحيح يا كلب</td>\n",
              "      <td>الغاها الكلب بلننى صحيح يا كلب</td>\n",
              "      <td>[ ,  ,  ,  ,  ]</td>\n",
              "      <td>الغاها الكلب بلننى صحيح يا كلب</td>\n",
              "    </tr>\n",
              "    <tr>\n",
              "      <th>21577</th>\n",
              "      <td>1169961161779027968</td>\n",
              "      <td>LY</td>\n",
              "      <td>1</td>\n",
              "      <td>['مش'] ['بطريقه'] ['هذى'] ['يتغيروا'] ['فى'] [...</td>\n",
              "      <td></td>\n",
              "      <td>مش بطريقه هذى يتغيروا فى حلولوا اخرى</td>\n",
              "      <td>مش بطريقه هذى يتغيروا فى حلولوا اخرى</td>\n",
              "      <td>[ ,  ,  ,  ,  ,  ]</td>\n",
              "      <td>مش بطريقه هذى يتغيروا فى حلولوا اخرى</td>\n",
              "    </tr>\n",
              "    <tr>\n",
              "      <th>353966</th>\n",
              "      <td>1000376594467360768</td>\n",
              "      <td>KW</td>\n",
              "      <td>13</td>\n",
              "      <td>['الله'] ['يجمل'] ['عيونك'] ['ويديم'] ['سعادتك']</td>\n",
              "      <td></td>\n",
              "      <td>الله يجمل عيونك ويديم سعادتك</td>\n",
              "      <td>الله يجمل عيونك ويديم سعادتك</td>\n",
              "      <td>[ ,  ,  ,  ]</td>\n",
              "      <td>الله يجمل عيونك ويديم سعادتك</td>\n",
              "    </tr>\n",
              "    <tr>\n",
              "      <th>230307</th>\n",
              "      <td>1159064569769320448</td>\n",
              "      <td>DZ</td>\n",
              "      <td>10</td>\n",
              "      <td>['ما'] ['عندى'] ['ما'] ['نقول'] ['راك'] ['عارف...</td>\n",
              "      <td></td>\n",
              "      <td>ما عندى ما نقول راك عارف قيمتك عنديه</td>\n",
              "      <td>ما عندى ما نقول راك عارف قيمتك عنديه</td>\n",
              "      <td>[ ,  ,  ,  ,  ,  ,  ]</td>\n",
              "      <td>ما عندى ما نقول راك عارف قيمتك عنديه</td>\n",
              "    </tr>\n",
              "  </tbody>\n",
              "</table>\n",
              "<p>9999 rows × 9 columns</p>\n",
              "</div>\n",
              "      <button class=\"colab-df-convert\" onclick=\"convertToInteractive('df-5a4db279-63df-4ba0-b80d-57bccf1f5b4c')\"\n",
              "              title=\"Convert this dataframe to an interactive table.\"\n",
              "              style=\"display:none;\">\n",
              "        \n",
              "  <svg xmlns=\"http://www.w3.org/2000/svg\" height=\"24px\"viewBox=\"0 0 24 24\"\n",
              "       width=\"24px\">\n",
              "    <path d=\"M0 0h24v24H0V0z\" fill=\"none\"/>\n",
              "    <path d=\"M18.56 5.44l.94 2.06.94-2.06 2.06-.94-2.06-.94-.94-2.06-.94 2.06-2.06.94zm-11 1L8.5 8.5l.94-2.06 2.06-.94-2.06-.94L8.5 2.5l-.94 2.06-2.06.94zm10 10l.94 2.06.94-2.06 2.06-.94-2.06-.94-.94-2.06-.94 2.06-2.06.94z\"/><path d=\"M17.41 7.96l-1.37-1.37c-.4-.4-.92-.59-1.43-.59-.52 0-1.04.2-1.43.59L10.3 9.45l-7.72 7.72c-.78.78-.78 2.05 0 2.83L4 21.41c.39.39.9.59 1.41.59.51 0 1.02-.2 1.41-.59l7.78-7.78 2.81-2.81c.8-.78.8-2.07 0-2.86zM5.41 20L4 18.59l7.72-7.72 1.47 1.35L5.41 20z\"/>\n",
              "  </svg>\n",
              "      </button>\n",
              "      \n",
              "  <style>\n",
              "    .colab-df-container {\n",
              "      display:flex;\n",
              "      flex-wrap:wrap;\n",
              "      gap: 12px;\n",
              "    }\n",
              "\n",
              "    .colab-df-convert {\n",
              "      background-color: #E8F0FE;\n",
              "      border: none;\n",
              "      border-radius: 50%;\n",
              "      cursor: pointer;\n",
              "      display: none;\n",
              "      fill: #1967D2;\n",
              "      height: 32px;\n",
              "      padding: 0 0 0 0;\n",
              "      width: 32px;\n",
              "    }\n",
              "\n",
              "    .colab-df-convert:hover {\n",
              "      background-color: #E2EBFA;\n",
              "      box-shadow: 0px 1px 2px rgba(60, 64, 67, 0.3), 0px 1px 3px 1px rgba(60, 64, 67, 0.15);\n",
              "      fill: #174EA6;\n",
              "    }\n",
              "\n",
              "    [theme=dark] .colab-df-convert {\n",
              "      background-color: #3B4455;\n",
              "      fill: #D2E3FC;\n",
              "    }\n",
              "\n",
              "    [theme=dark] .colab-df-convert:hover {\n",
              "      background-color: #434B5C;\n",
              "      box-shadow: 0px 1px 3px 1px rgba(0, 0, 0, 0.15);\n",
              "      filter: drop-shadow(0px 1px 2px rgba(0, 0, 0, 0.3));\n",
              "      fill: #FFFFFF;\n",
              "    }\n",
              "  </style>\n",
              "\n",
              "      <script>\n",
              "        const buttonEl =\n",
              "          document.querySelector('#df-5a4db279-63df-4ba0-b80d-57bccf1f5b4c button.colab-df-convert');\n",
              "        buttonEl.style.display =\n",
              "          google.colab.kernel.accessAllowed ? 'block' : 'none';\n",
              "\n",
              "        async function convertToInteractive(key) {\n",
              "          const element = document.querySelector('#df-5a4db279-63df-4ba0-b80d-57bccf1f5b4c');\n",
              "          const dataTable =\n",
              "            await google.colab.kernel.invokeFunction('convertToInteractive',\n",
              "                                                     [key], {});\n",
              "          if (!dataTable) return;\n",
              "\n",
              "          const docLinkHtml = 'Like what you see? Visit the ' +\n",
              "            '<a target=\"_blank\" href=https://colab.research.google.com/notebooks/data_table.ipynb>data table notebook</a>'\n",
              "            + ' to learn more about interactive tables.';\n",
              "          element.innerHTML = '';\n",
              "          dataTable['output_type'] = 'display_data';\n",
              "          await google.colab.output.renderOutput(dataTable, element);\n",
              "          const docLink = document.createElement('div');\n",
              "          docLink.innerHTML = docLinkHtml;\n",
              "          element.appendChild(docLink);\n",
              "        }\n",
              "      </script>\n",
              "    </div>\n",
              "  </div>\n",
              "  "
            ]
          },
          "metadata": {},
          "execution_count": 14
        }
      ],
      "source": [
        "#converting the finetext to separate independent words\n",
        "data['fineText'] = data['fineText'].apply(lambda x: [str(word.split()) for word in x.split()]) \n",
        "data['fineText'] = data['fineText'].apply(lambda x: ' '.join(map(str, x)))\n",
        "data"
      ]
    },
    {
      "cell_type": "markdown",
      "metadata": {
        "id": "7nnEasFm2cCr"
      },
      "source": [
        "- NAIVE BAYES CLASSIFER"
      ]
    },
    {
      "cell_type": "code",
      "execution_count": 15,
      "metadata": {
        "id": "72s7haB12cCs"
      },
      "outputs": [],
      "source": [
        "# Encode the categories into numerical values\n",
        "le = LabelEncoder()\n",
        "data['dialect_encode'] = le.fit_transform(data['dialect'])\n"
      ]
    },
    {
      "cell_type": "code",
      "execution_count": 16,
      "metadata": {
        "id": "uYrRW9Qy2cCs"
      },
      "outputs": [],
      "source": [
        "#this will be used to divide data into train and test\n",
        "X = data['fineText'].astype(str)\n",
        "y = data['dialect_encode']"
      ]
    },
    {
      "cell_type": "code",
      "execution_count": 17,
      "metadata": {
        "id": "tb39gyu62cCt"
      },
      "outputs": [],
      "source": [
        "X_train, X_test, y_train, y_test = train_test_split(X, y, test_size=0.2, random_state=34, stratify=y)"
      ]
    },
    {
      "cell_type": "code",
      "execution_count": 18,
      "metadata": {
        "id": "BZDjYTf22cCt"
      },
      "outputs": [],
      "source": [
        "#convert the data into numbers to fit the naive bayes algorithm ill use below\n",
        "# is used to convert a collection of text documents to a matrix of TF-IDF features.\n",
        "vectorizer = TfidfVectorizer()\n",
        "tfidf_train = vectorizer.fit_transform(X_train)"
      ]
    },
    {
      "cell_type": "code",
      "execution_count": 19,
      "metadata": {
        "id": "QoHlZSPm2cCt"
      },
      "outputs": [],
      "source": [
        "tfidf_test = vectorizer.transform(X_test)\n"
      ]
    },
    {
      "cell_type": "code",
      "execution_count": 20,
      "metadata": {
        "colab": {
          "base_uri": "https://localhost:8080/",
          "height": 75
        },
        "id": "mbzskaj82cCt",
        "outputId": "6760f183-0bbc-4892-88ee-b5b1b89e953b"
      },
      "outputs": [
        {
          "output_type": "execute_result",
          "data": {
            "text/plain": [
              "MultinomialNB()"
            ],
            "text/html": [
              "<style>#sk-container-id-1 {color: black;background-color: white;}#sk-container-id-1 pre{padding: 0;}#sk-container-id-1 div.sk-toggleable {background-color: white;}#sk-container-id-1 label.sk-toggleable__label {cursor: pointer;display: block;width: 100%;margin-bottom: 0;padding: 0.3em;box-sizing: border-box;text-align: center;}#sk-container-id-1 label.sk-toggleable__label-arrow:before {content: \"▸\";float: left;margin-right: 0.25em;color: #696969;}#sk-container-id-1 label.sk-toggleable__label-arrow:hover:before {color: black;}#sk-container-id-1 div.sk-estimator:hover label.sk-toggleable__label-arrow:before {color: black;}#sk-container-id-1 div.sk-toggleable__content {max-height: 0;max-width: 0;overflow: hidden;text-align: left;background-color: #f0f8ff;}#sk-container-id-1 div.sk-toggleable__content pre {margin: 0.2em;color: black;border-radius: 0.25em;background-color: #f0f8ff;}#sk-container-id-1 input.sk-toggleable__control:checked~div.sk-toggleable__content {max-height: 200px;max-width: 100%;overflow: auto;}#sk-container-id-1 input.sk-toggleable__control:checked~label.sk-toggleable__label-arrow:before {content: \"▾\";}#sk-container-id-1 div.sk-estimator input.sk-toggleable__control:checked~label.sk-toggleable__label {background-color: #d4ebff;}#sk-container-id-1 div.sk-label input.sk-toggleable__control:checked~label.sk-toggleable__label {background-color: #d4ebff;}#sk-container-id-1 input.sk-hidden--visually {border: 0;clip: rect(1px 1px 1px 1px);clip: rect(1px, 1px, 1px, 1px);height: 1px;margin: -1px;overflow: hidden;padding: 0;position: absolute;width: 1px;}#sk-container-id-1 div.sk-estimator {font-family: monospace;background-color: #f0f8ff;border: 1px dotted black;border-radius: 0.25em;box-sizing: border-box;margin-bottom: 0.5em;}#sk-container-id-1 div.sk-estimator:hover {background-color: #d4ebff;}#sk-container-id-1 div.sk-parallel-item::after {content: \"\";width: 100%;border-bottom: 1px solid gray;flex-grow: 1;}#sk-container-id-1 div.sk-label:hover label.sk-toggleable__label {background-color: #d4ebff;}#sk-container-id-1 div.sk-serial::before {content: \"\";position: absolute;border-left: 1px solid gray;box-sizing: border-box;top: 0;bottom: 0;left: 50%;z-index: 0;}#sk-container-id-1 div.sk-serial {display: flex;flex-direction: column;align-items: center;background-color: white;padding-right: 0.2em;padding-left: 0.2em;position: relative;}#sk-container-id-1 div.sk-item {position: relative;z-index: 1;}#sk-container-id-1 div.sk-parallel {display: flex;align-items: stretch;justify-content: center;background-color: white;position: relative;}#sk-container-id-1 div.sk-item::before, #sk-container-id-1 div.sk-parallel-item::before {content: \"\";position: absolute;border-left: 1px solid gray;box-sizing: border-box;top: 0;bottom: 0;left: 50%;z-index: -1;}#sk-container-id-1 div.sk-parallel-item {display: flex;flex-direction: column;z-index: 1;position: relative;background-color: white;}#sk-container-id-1 div.sk-parallel-item:first-child::after {align-self: flex-end;width: 50%;}#sk-container-id-1 div.sk-parallel-item:last-child::after {align-self: flex-start;width: 50%;}#sk-container-id-1 div.sk-parallel-item:only-child::after {width: 0;}#sk-container-id-1 div.sk-dashed-wrapped {border: 1px dashed gray;margin: 0 0.4em 0.5em 0.4em;box-sizing: border-box;padding-bottom: 0.4em;background-color: white;}#sk-container-id-1 div.sk-label label {font-family: monospace;font-weight: bold;display: inline-block;line-height: 1.2em;}#sk-container-id-1 div.sk-label-container {text-align: center;}#sk-container-id-1 div.sk-container {/* jupyter's `normalize.less` sets `[hidden] { display: none; }` but bootstrap.min.css set `[hidden] { display: none !important; }` so we also need the `!important` here to be able to override the default hidden behavior on the sphinx rendered scikit-learn.org. See: https://github.com/scikit-learn/scikit-learn/issues/21755 */display: inline-block !important;position: relative;}#sk-container-id-1 div.sk-text-repr-fallback {display: none;}</style><div id=\"sk-container-id-1\" class=\"sk-top-container\"><div class=\"sk-text-repr-fallback\"><pre>MultinomialNB()</pre><b>In a Jupyter environment, please rerun this cell to show the HTML representation or trust the notebook. <br />On GitHub, the HTML representation is unable to render, please try loading this page with nbviewer.org.</b></div><div class=\"sk-container\" hidden><div class=\"sk-item\"><div class=\"sk-estimator sk-toggleable\"><input class=\"sk-toggleable__control sk-hidden--visually\" id=\"sk-estimator-id-1\" type=\"checkbox\" checked><label for=\"sk-estimator-id-1\" class=\"sk-toggleable__label sk-toggleable__label-arrow\">MultinomialNB</label><div class=\"sk-toggleable__content\"><pre>MultinomialNB()</pre></div></div></div></div></div>"
            ]
          },
          "metadata": {},
          "execution_count": 20
        }
      ],
      "source": [
        "#applying the naive bayes model on my vectorized data and the labels \n",
        "#da el naive bayes ely monaseb lel text classification\n",
        "nb = MultinomialNB()\n",
        "# Fit the model\n",
        "nb.fit(tfidf_train, y_train)\n",
        "#fit the training data to the model el label bel sentences"
      ]
    },
    {
      "cell_type": "code",
      "execution_count": 21,
      "metadata": {
        "id": "GrLx3q3-2cCu",
        "colab": {
          "base_uri": "https://localhost:8080/"
        },
        "outputId": "2eaab20b-a0ca-4189-9f38-43087d235246"
      },
      "outputs": [
        {
          "output_type": "stream",
          "name": "stdout",
          "text": [
            "Accuracy: 0.245\n"
          ]
        }
      ],
      "source": [
        "print(\"Accuracy:\",nb.score(tfidf_test, y_test))\n"
      ]
    },
    {
      "cell_type": "code",
      "source": [
        "from sklearn.naive_bayes import MultinomialNB\n",
        "nb2 = MultinomialNB(alpha=0.6)\n",
        "# Fit the model\n",
        "nb2.fit(tfidf_train, y_train)"
      ],
      "metadata": {
        "colab": {
          "base_uri": "https://localhost:8080/",
          "height": 75
        },
        "id": "Ok69tLCFwVLd",
        "outputId": "4409c318-537d-45a7-aa6a-3d48157d611d"
      },
      "execution_count": 22,
      "outputs": [
        {
          "output_type": "execute_result",
          "data": {
            "text/plain": [
              "MultinomialNB(alpha=0.6)"
            ],
            "text/html": [
              "<style>#sk-container-id-2 {color: black;background-color: white;}#sk-container-id-2 pre{padding: 0;}#sk-container-id-2 div.sk-toggleable {background-color: white;}#sk-container-id-2 label.sk-toggleable__label {cursor: pointer;display: block;width: 100%;margin-bottom: 0;padding: 0.3em;box-sizing: border-box;text-align: center;}#sk-container-id-2 label.sk-toggleable__label-arrow:before {content: \"▸\";float: left;margin-right: 0.25em;color: #696969;}#sk-container-id-2 label.sk-toggleable__label-arrow:hover:before {color: black;}#sk-container-id-2 div.sk-estimator:hover label.sk-toggleable__label-arrow:before {color: black;}#sk-container-id-2 div.sk-toggleable__content {max-height: 0;max-width: 0;overflow: hidden;text-align: left;background-color: #f0f8ff;}#sk-container-id-2 div.sk-toggleable__content pre {margin: 0.2em;color: black;border-radius: 0.25em;background-color: #f0f8ff;}#sk-container-id-2 input.sk-toggleable__control:checked~div.sk-toggleable__content {max-height: 200px;max-width: 100%;overflow: auto;}#sk-container-id-2 input.sk-toggleable__control:checked~label.sk-toggleable__label-arrow:before {content: \"▾\";}#sk-container-id-2 div.sk-estimator input.sk-toggleable__control:checked~label.sk-toggleable__label {background-color: #d4ebff;}#sk-container-id-2 div.sk-label input.sk-toggleable__control:checked~label.sk-toggleable__label {background-color: #d4ebff;}#sk-container-id-2 input.sk-hidden--visually {border: 0;clip: rect(1px 1px 1px 1px);clip: rect(1px, 1px, 1px, 1px);height: 1px;margin: -1px;overflow: hidden;padding: 0;position: absolute;width: 1px;}#sk-container-id-2 div.sk-estimator {font-family: monospace;background-color: #f0f8ff;border: 1px dotted black;border-radius: 0.25em;box-sizing: border-box;margin-bottom: 0.5em;}#sk-container-id-2 div.sk-estimator:hover {background-color: #d4ebff;}#sk-container-id-2 div.sk-parallel-item::after {content: \"\";width: 100%;border-bottom: 1px solid gray;flex-grow: 1;}#sk-container-id-2 div.sk-label:hover label.sk-toggleable__label {background-color: #d4ebff;}#sk-container-id-2 div.sk-serial::before {content: \"\";position: absolute;border-left: 1px solid gray;box-sizing: border-box;top: 0;bottom: 0;left: 50%;z-index: 0;}#sk-container-id-2 div.sk-serial {display: flex;flex-direction: column;align-items: center;background-color: white;padding-right: 0.2em;padding-left: 0.2em;position: relative;}#sk-container-id-2 div.sk-item {position: relative;z-index: 1;}#sk-container-id-2 div.sk-parallel {display: flex;align-items: stretch;justify-content: center;background-color: white;position: relative;}#sk-container-id-2 div.sk-item::before, #sk-container-id-2 div.sk-parallel-item::before {content: \"\";position: absolute;border-left: 1px solid gray;box-sizing: border-box;top: 0;bottom: 0;left: 50%;z-index: -1;}#sk-container-id-2 div.sk-parallel-item {display: flex;flex-direction: column;z-index: 1;position: relative;background-color: white;}#sk-container-id-2 div.sk-parallel-item:first-child::after {align-self: flex-end;width: 50%;}#sk-container-id-2 div.sk-parallel-item:last-child::after {align-self: flex-start;width: 50%;}#sk-container-id-2 div.sk-parallel-item:only-child::after {width: 0;}#sk-container-id-2 div.sk-dashed-wrapped {border: 1px dashed gray;margin: 0 0.4em 0.5em 0.4em;box-sizing: border-box;padding-bottom: 0.4em;background-color: white;}#sk-container-id-2 div.sk-label label {font-family: monospace;font-weight: bold;display: inline-block;line-height: 1.2em;}#sk-container-id-2 div.sk-label-container {text-align: center;}#sk-container-id-2 div.sk-container {/* jupyter's `normalize.less` sets `[hidden] { display: none; }` but bootstrap.min.css set `[hidden] { display: none !important; }` so we also need the `!important` here to be able to override the default hidden behavior on the sphinx rendered scikit-learn.org. See: https://github.com/scikit-learn/scikit-learn/issues/21755 */display: inline-block !important;position: relative;}#sk-container-id-2 div.sk-text-repr-fallback {display: none;}</style><div id=\"sk-container-id-2\" class=\"sk-top-container\"><div class=\"sk-text-repr-fallback\"><pre>MultinomialNB(alpha=0.6)</pre><b>In a Jupyter environment, please rerun this cell to show the HTML representation or trust the notebook. <br />On GitHub, the HTML representation is unable to render, please try loading this page with nbviewer.org.</b></div><div class=\"sk-container\" hidden><div class=\"sk-item\"><div class=\"sk-estimator sk-toggleable\"><input class=\"sk-toggleable__control sk-hidden--visually\" id=\"sk-estimator-id-2\" type=\"checkbox\" checked><label for=\"sk-estimator-id-2\" class=\"sk-toggleable__label sk-toggleable__label-arrow\">MultinomialNB</label><div class=\"sk-toggleable__content\"><pre>MultinomialNB(alpha=0.6)</pre></div></div></div></div></div>"
            ]
          },
          "metadata": {},
          "execution_count": 22
        }
      ]
    },
    {
      "cell_type": "code",
      "source": [
        "print(\"Accuracy:\",nb2.score(tfidf_test, y_test))\n",
        "# This  prints the accuracy of the MultinomialNB model on the testing data using the score method.\n"
      ],
      "metadata": {
        "colab": {
          "base_uri": "https://localhost:8080/"
        },
        "id": "GDRfD4azwVaI",
        "outputId": "4d31a52a-c7fd-4c6a-b7c6-6e7e86f3f6cf"
      },
      "execution_count": 23,
      "outputs": [
        {
          "output_type": "stream",
          "name": "stdout",
          "text": [
            "Accuracy: 0.277\n"
          ]
        }
      ]
    },
    {
      "cell_type": "code",
      "source": [
        "from sklearn import naive_bayes\n",
        "predictions = nb.predict(tfidf_test)\n",
        "predictions\n",
        "# uses the predict method of the MultinomialNB instance to make predictions on the testing data, and stores the predictions in the predictions variable."
      ],
      "metadata": {
        "colab": {
          "base_uri": "https://localhost:8080/"
        },
        "id": "oe-amMP3wVhn",
        "outputId": "86beb76d-577c-47be-db27-2c402e54d2fc"
      },
      "execution_count": 24,
      "outputs": [
        {
          "output_type": "execute_result",
          "data": {
            "text/plain": [
              "array([11,  6,  3, ...,  3,  3,  3])"
            ]
          },
          "metadata": {},
          "execution_count": 24
        }
      ]
    },
    {
      "cell_type": "code",
      "source": [
        "#f score of 1st model\n",
        "from sklearn.metrics import f1_score\n",
        "f1_score(y_test, predictions, average='weighted')"
      ],
      "metadata": {
        "colab": {
          "base_uri": "https://localhost:8080/"
        },
        "id": "l7fQf7kLwVmY",
        "outputId": "4a6072d0-31cc-4610-afd4-af444b6f7d2d"
      },
      "execution_count": 25,
      "outputs": [
        {
          "output_type": "execute_result",
          "data": {
            "text/plain": [
              "0.16072266314338268"
            ]
          },
          "metadata": {},
          "execution_count": 25
        }
      ]
    },
    {
      "cell_type": "code",
      "source": [
        "from sklearn import naive_bayes\n",
        "predictions2 = nb2.predict(tfidf_test)\n",
        "predictions2\n",
        "#new unseen data"
      ],
      "metadata": {
        "colab": {
          "base_uri": "https://localhost:8080/"
        },
        "id": "pl5N4uSzwVrn",
        "outputId": "96be4683-bd80-4e37-8bca-fe1f3107a864"
      },
      "execution_count": 26,
      "outputs": [
        {
          "output_type": "execute_result",
          "data": {
            "text/plain": [
              "array([11,  6,  3, ...,  3,  3,  3])"
            ]
          },
          "metadata": {},
          "execution_count": 26
        }
      ]
    },
    {
      "cell_type": "code",
      "source": [
        "#f score of second model\n",
        "from sklearn.metrics import f1_score\n",
        "f1_score(y_test, predictions2, average='weighted')"
      ],
      "metadata": {
        "colab": {
          "base_uri": "https://localhost:8080/"
        },
        "id": "wvVsFnfbwVxV",
        "outputId": "5f980025-5353-47b6-fcec-b848a3c4eb68"
      },
      "execution_count": 27,
      "outputs": [
        {
          "output_type": "execute_result",
          "data": {
            "text/plain": [
              "0.19745087616380508"
            ]
          },
          "metadata": {},
          "execution_count": 27
        }
      ]
    },
    {
      "cell_type": "code",
      "source": [
        "from sklearn.metrics import classification_report, confusion_matrix\n",
        "\n",
        "#  predictions on the test data\n",
        "predictions = nb.predict(tfidf_test)\n",
        "# Generate a classification report and confusion matrix\n",
        "print(classification_report(y_test, predictions))\n"
      ],
      "metadata": {
        "colab": {
          "base_uri": "https://localhost:8080/"
        },
        "id": "-4SUYZt-FmGu",
        "outputId": "209c87c0-ac9e-4212-cc07-ffb69e0b08a7"
      },
      "execution_count": 28,
      "outputs": [
        {
          "output_type": "stream",
          "name": "stdout",
          "text": [
            "              precision    recall  f1-score   support\n",
            "\n",
            "           0       1.00      0.03      0.05       118\n",
            "           1       0.00      0.00      0.00       113\n",
            "           2       1.00      0.01      0.03        73\n",
            "           3       0.20      0.98      0.33       244\n",
            "           4       0.00      0.00      0.00        69\n",
            "           5       0.00      0.00      0.00       124\n",
            "           6       0.23      0.52      0.32       193\n",
            "           7       0.69      0.09      0.16       118\n",
            "           8       0.69      0.26      0.38       157\n",
            "           9       0.00      0.00      0.00        52\n",
            "          10       0.00      0.00      0.00        81\n",
            "          11       0.29      0.41      0.34       190\n",
            "          12       0.55      0.11      0.19       140\n",
            "          13       0.00      0.00      0.00       114\n",
            "          14       0.00      0.00      0.00        63\n",
            "          15       0.00      0.00      0.00        67\n",
            "          16       0.00      0.00      0.00        43\n",
            "          17       0.00      0.00      0.00        41\n",
            "\n",
            "    accuracy                           0.24      2000\n",
            "   macro avg       0.26      0.13      0.10      2000\n",
            "weighted avg       0.30      0.24      0.16      2000\n",
            "\n"
          ]
        },
        {
          "output_type": "stream",
          "name": "stderr",
          "text": [
            "/usr/local/lib/python3.10/dist-packages/sklearn/metrics/_classification.py:1344: UndefinedMetricWarning: Precision and F-score are ill-defined and being set to 0.0 in labels with no predicted samples. Use `zero_division` parameter to control this behavior.\n",
            "  _warn_prf(average, modifier, msg_start, len(result))\n",
            "/usr/local/lib/python3.10/dist-packages/sklearn/metrics/_classification.py:1344: UndefinedMetricWarning: Precision and F-score are ill-defined and being set to 0.0 in labels with no predicted samples. Use `zero_division` parameter to control this behavior.\n",
            "  _warn_prf(average, modifier, msg_start, len(result))\n",
            "/usr/local/lib/python3.10/dist-packages/sklearn/metrics/_classification.py:1344: UndefinedMetricWarning: Precision and F-score are ill-defined and being set to 0.0 in labels with no predicted samples. Use `zero_division` parameter to control this behavior.\n",
            "  _warn_prf(average, modifier, msg_start, len(result))\n"
          ]
        }
      ]
    },
    {
      "cell_type": "code",
      "source": [
        "from sklearn.metrics import classification_report, confusion_matrix\n",
        "\n",
        "#  predictions on the test data\n",
        "predictions = nb2.predict(tfidf_test)\n",
        "\n",
        "# Generate a classification report and confusion matrix\n",
        "print(classification_report(y_test, predictions))"
      ],
      "metadata": {
        "colab": {
          "base_uri": "https://localhost:8080/"
        },
        "id": "3y-pzvK5HHbj",
        "outputId": "d01aed3d-2506-4147-a30a-cac89a87164d"
      },
      "execution_count": 29,
      "outputs": [
        {
          "output_type": "stream",
          "name": "stdout",
          "text": [
            "              precision    recall  f1-score   support\n",
            "\n",
            "           0       0.67      0.05      0.09       118\n",
            "           1       0.33      0.01      0.02       113\n",
            "           2       1.00      0.03      0.05        73\n",
            "           3       0.23      0.95      0.37       244\n",
            "           4       0.00      0.00      0.00        69\n",
            "           5       0.38      0.02      0.05       124\n",
            "           6       0.24      0.59      0.35       193\n",
            "           7       0.81      0.19      0.30       118\n",
            "           8       0.60      0.34      0.43       157\n",
            "           9       0.00      0.00      0.00        52\n",
            "          10       1.00      0.02      0.05        81\n",
            "          11       0.28      0.48      0.35       190\n",
            "          12       0.46      0.19      0.26       140\n",
            "          13       0.50      0.02      0.03       114\n",
            "          14       0.00      0.00      0.00        63\n",
            "          15       0.00      0.00      0.00        67\n",
            "          16       0.00      0.00      0.00        43\n",
            "          17       0.00      0.00      0.00        41\n",
            "\n",
            "    accuracy                           0.28      2000\n",
            "   macro avg       0.36      0.16      0.13      2000\n",
            "weighted avg       0.39      0.28      0.20      2000\n",
            "\n"
          ]
        },
        {
          "output_type": "stream",
          "name": "stderr",
          "text": [
            "/usr/local/lib/python3.10/dist-packages/sklearn/metrics/_classification.py:1344: UndefinedMetricWarning: Precision and F-score are ill-defined and being set to 0.0 in labels with no predicted samples. Use `zero_division` parameter to control this behavior.\n",
            "  _warn_prf(average, modifier, msg_start, len(result))\n",
            "/usr/local/lib/python3.10/dist-packages/sklearn/metrics/_classification.py:1344: UndefinedMetricWarning: Precision and F-score are ill-defined and being set to 0.0 in labels with no predicted samples. Use `zero_division` parameter to control this behavior.\n",
            "  _warn_prf(average, modifier, msg_start, len(result))\n",
            "/usr/local/lib/python3.10/dist-packages/sklearn/metrics/_classification.py:1344: UndefinedMetricWarning: Precision and F-score are ill-defined and being set to 0.0 in labels with no predicted samples. Use `zero_division` parameter to control this behavior.\n",
            "  _warn_prf(average, modifier, msg_start, len(result))\n"
          ]
        }
      ]
    },
    {
      "cell_type": "markdown",
      "metadata": {
        "id": "yUSAHQhY2cCu"
      },
      "source": [
        "LSTM"
      ]
    },
    {
      "cell_type": "code",
      "execution_count": 30,
      "metadata": {
        "id": "w7vU0wtE3Gdy"
      },
      "outputs": [],
      "source": [
        "#VECTORIZING the data as above to be represented as numbers\n",
        "X = data['fineText'] \n",
        "y = data['dialect']\n",
        "vectorizer = TfidfVectorizer()\n",
        "X_new = vectorizer.fit_transform(X)"
      ]
    },
    {
      "cell_type": "code",
      "execution_count": 31,
      "metadata": {
        "id": "p50vtdvM3Gdz"
      },
      "outputs": [],
      "source": [
        "# DIVIDING TO TRAIN AND TEST\n",
        "X_train, X_test, y_train, y_test = train_test_split(X_new, data['dialect_encode'], test_size=0.2, random_state=1)\n"
      ]
    },
    {
      "cell_type": "code",
      "execution_count": 32,
      "metadata": {
        "id": "dIm7zNpE3Gd0"
      },
      "outputs": [],
      "source": [
        "#CONVERTING THE X TRAIN TO ARRAY\n",
        "newXTrain=X_train.toarray()\n"
      ]
    },
    {
      "cell_type": "code",
      "execution_count": 33,
      "metadata": {
        "id": "L-Jz1Yor3Gd1"
      },
      "outputs": [],
      "source": [
        "# CONVERT THE X TEST TO ARRAY\n",
        "newXTest=X_test.toarray()"
      ]
    },
    {
      "cell_type": "code",
      "execution_count": 34,
      "metadata": {
        "id": "-CUljK783Gd2"
      },
      "outputs": [],
      "source": [
        "finalXtrain=np.asarray(newXTrain).astype('float32').reshape(newXTrain.shape[0],1,newXTrain.shape[1])\n",
        "finalXtest=np.asarray(newXTest).astype('float32').reshape(newXTest.shape[0],1,newXTest.shape[1])"
      ]
    },
    {
      "cell_type": "code",
      "execution_count": 35,
      "metadata": {
        "id": "f654U_S63Gd2"
      },
      "outputs": [],
      "source": [
        "#CHANGING THE LABELS TO VECTORS THAT PUT 1 IN PLACE OF THE CLASS FOR EXAMPLE CLASS 2 WILL BE [0,1,0,0]\n",
        "from keras.utils import to_categorical\n",
        "y_train_hot = to_categorical(y_train)\n",
        "y_test_hot = to_categorical(y_test)\n"
      ]
    },
    {
      "cell_type": "code",
      "execution_count": 36,
      "metadata": {
        "id": "Y0QtIRwe3Gd3"
      },
      "outputs": [],
      "source": [
        "# initializing the lstm model\n",
        "model = Sequential()\n",
        "model.add(LSTM(128))\n",
        "model.add(Dense(18, activation='softmax'))"
      ]
    },
    {
      "cell_type": "code",
      "execution_count": 37,
      "metadata": {
        "id": "SvDHFITm3GeF",
        "outputId": "59bf5f12-3c69-476c-c53f-03aad230b6f0",
        "colab": {
          "base_uri": "https://localhost:8080/"
        }
      },
      "outputs": [
        {
          "output_type": "stream",
          "name": "stdout",
          "text": [
            "Epoch 1/10\n",
            "125/125 [==============================] - 49s 328ms/step - loss: 2.8213 - accuracy: 0.1293 - val_loss: 2.7367 - val_accuracy: 0.1260\n",
            "Epoch 2/10\n",
            "125/125 [==============================] - 34s 275ms/step - loss: 2.5698 - accuracy: 0.1831 - val_loss: 2.5990 - val_accuracy: 0.2230\n",
            "Epoch 3/10\n",
            "125/125 [==============================] - 36s 290ms/step - loss: 2.0444 - accuracy: 0.5107 - val_loss: 2.3576 - val_accuracy: 0.3240\n",
            "Epoch 4/10\n",
            "125/125 [==============================] - 33s 265ms/step - loss: 1.2110 - accuracy: 0.8611 - val_loss: 2.1642 - val_accuracy: 0.3750\n",
            "Epoch 5/10\n",
            "125/125 [==============================] - 33s 260ms/step - loss: 0.5330 - accuracy: 0.9674 - val_loss: 2.0930 - val_accuracy: 0.3870\n",
            "Epoch 6/10\n",
            "125/125 [==============================] - 34s 268ms/step - loss: 0.2224 - accuracy: 0.9900 - val_loss: 2.0905 - val_accuracy: 0.3825\n",
            "Epoch 7/10\n",
            "125/125 [==============================] - 34s 275ms/step - loss: 0.1069 - accuracy: 0.9964 - val_loss: 2.0973 - val_accuracy: 0.3815\n",
            "Epoch 8/10\n",
            "125/125 [==============================] - 34s 274ms/step - loss: 0.0602 - accuracy: 0.9985 - val_loss: 2.1093 - val_accuracy: 0.3800\n",
            "Epoch 9/10\n",
            "125/125 [==============================] - 35s 280ms/step - loss: 0.0383 - accuracy: 0.9995 - val_loss: 2.1248 - val_accuracy: 0.3785\n",
            "Epoch 10/10\n",
            "125/125 [==============================] - 34s 273ms/step - loss: 0.0265 - accuracy: 0.9996 - val_loss: 2.1415 - val_accuracy: 0.3785\n"
          ]
        },
        {
          "output_type": "execute_result",
          "data": {
            "text/plain": [
              "<keras.callbacks.History at 0x7f1e1d4eb700>"
            ]
          },
          "metadata": {},
          "execution_count": 37
        }
      ],
      "source": [
        "# Train the LSTM model\n",
        "model.compile(loss='categorical_crossentropy', optimizer='adam', metrics=['accuracy'])\n",
        "model.fit(finalXtrain, y_train_hot, epochs=10, batch_size=64, validation_data=(finalXtest, y_test_hot))\n",
        "\n"
      ]
    },
    {
      "cell_type": "code",
      "execution_count": 38,
      "metadata": {
        "id": "PTOrDVnH3GeU",
        "colab": {
          "base_uri": "https://localhost:8080/"
        },
        "outputId": "ef36ba7a-5cbc-4fa0-ea7e-3832f42912d3"
      },
      "outputs": [
        {
          "output_type": "stream",
          "name": "stdout",
          "text": [
            "63/63 [==============================] - 2s 29ms/step - loss: 2.1415 - accuracy: 0.3785\n",
            "Accuracy: 37.85%\n"
          ]
        }
      ],
      "source": [
        "# Evaluate the LSTM model\n",
        "loss, acc = model.evaluate(finalXtest, y_test_hot)\n",
        "print(\"Accuracy: {:.2f}%\".format(acc * 100))"
      ]
    },
    {
      "cell_type": "code",
      "source": [
        "#classification report, i wasnt able to observe the f scores of the best classified classes as there was a problem with the ram, but im sure there will be an output\n",
        "y_pred = model.predict(finalXtest)\n",
        "y_pred = np.argmax(y_pred, axis=1)\n",
        "from sklearn import metrics\n",
        "y_pred=np.around(model.predict(finalXtest))\n",
        "print(metrics.classification_report(y_test_hot,y_pred))"
      ],
      "metadata": {
        "id": "aE3-gDvL8QzS",
        "colab": {
          "base_uri": "https://localhost:8080/"
        },
        "outputId": "3635459e-4db8-40a1-d30a-ddfd971f3cf4"
      },
      "execution_count": 39,
      "outputs": [
        {
          "output_type": "stream",
          "name": "stdout",
          "text": [
            "63/63 [==============================] - 2s 29ms/step\n",
            "63/63 [==============================] - 2s 30ms/step\n",
            "              precision    recall  f1-score   support\n",
            "\n",
            "           0       0.73      0.12      0.21       133\n",
            "           1       0.35      0.08      0.13       112\n",
            "           2       0.87      0.20      0.33        64\n",
            "           3       0.78      0.54      0.64       251\n",
            "           4       0.60      0.04      0.08        69\n",
            "           5       0.47      0.13      0.21       137\n",
            "           6       0.52      0.21      0.30       189\n",
            "           7       0.79      0.31      0.45       121\n",
            "           8       0.80      0.35      0.48       135\n",
            "           9       0.80      0.09      0.16        46\n",
            "          10       0.38      0.04      0.07        81\n",
            "          11       0.46      0.23      0.31       184\n",
            "          12       0.41      0.14      0.21       134\n",
            "          13       0.57      0.10      0.18       125\n",
            "          14       0.62      0.10      0.17        52\n",
            "          15       0.71      0.06      0.11        81\n",
            "          16       1.00      0.14      0.25        42\n",
            "          17       0.33      0.02      0.04        44\n",
            "\n",
            "   micro avg       0.63      0.21      0.31      2000\n",
            "   macro avg       0.62      0.16      0.24      2000\n",
            "weighted avg       0.61      0.21      0.29      2000\n",
            " samples avg       0.21      0.21      0.21      2000\n",
            "\n"
          ]
        },
        {
          "output_type": "stream",
          "name": "stderr",
          "text": [
            "/usr/local/lib/python3.10/dist-packages/sklearn/metrics/_classification.py:1344: UndefinedMetricWarning: Precision and F-score are ill-defined and being set to 0.0 in samples with no predicted labels. Use `zero_division` parameter to control this behavior.\n",
            "  _warn_prf(average, modifier, msg_start, len(result))\n"
          ]
        }
      ]
    },
    {
      "cell_type": "code",
      "source": [
        "#note i wasnt able to run the last cells cause of the ram, but iam sure it performed better than naive eo please re run this part maybe it wont lag in your laptop "
      ],
      "metadata": {
        "id": "cRRwjSrw-RZK"
      },
      "execution_count": 40,
      "outputs": []
    },
    {
      "cell_type": "code",
      "source": [
        "model2 = Sequential()\n",
        "model2.add(LSTM(256))\n",
        "model2.add(Dense(18, activation='softmax'))"
      ],
      "metadata": {
        "id": "77HU-kg8MJs2"
      },
      "execution_count": 41,
      "outputs": []
    },
    {
      "cell_type": "code",
      "source": [
        "# Train the LSTM model\n",
        "model2.compile(loss='categorical_crossentropy', optimizer='adam', metrics=['accuracy'])\n",
        "model2.fit(finalXtrain, y_train_hot, epochs=10, batch_size=64, validation_data=(finalXtest, y_test_hot))\n",
        "\n"
      ],
      "metadata": {
        "colab": {
          "base_uri": "https://localhost:8080/"
        },
        "id": "TixO5aZQMrsK",
        "outputId": "b76ca4d9-6303-4a25-dbea-4ff741e7017e"
      },
      "execution_count": 42,
      "outputs": [
        {
          "output_type": "stream",
          "name": "stdout",
          "text": [
            "Epoch 1/10\n",
            "125/125 [==============================] - 66s 502ms/step - loss: 2.7972 - accuracy: 0.1330 - val_loss: 2.7111 - val_accuracy: 0.1260\n",
            "Epoch 2/10\n",
            "125/125 [==============================] - 62s 493ms/step - loss: 2.4459 - accuracy: 0.2754 - val_loss: 2.4795 - val_accuracy: 0.2850\n",
            "Epoch 3/10\n",
            "125/125 [==============================] - 70s 562ms/step - loss: 1.6122 - accuracy: 0.7148 - val_loss: 2.1771 - val_accuracy: 0.3690\n",
            "Epoch 4/10\n",
            "125/125 [==============================] - 62s 499ms/step - loss: 0.6502 - accuracy: 0.9511 - val_loss: 2.0631 - val_accuracy: 0.3935\n",
            "Epoch 5/10\n",
            "125/125 [==============================] - 62s 493ms/step - loss: 0.2047 - accuracy: 0.9891 - val_loss: 2.0618 - val_accuracy: 0.3900\n",
            "Epoch 6/10\n",
            "125/125 [==============================] - 65s 521ms/step - loss: 0.0812 - accuracy: 0.9970 - val_loss: 2.0758 - val_accuracy: 0.3845\n",
            "Epoch 7/10\n",
            "125/125 [==============================] - 66s 527ms/step - loss: 0.0416 - accuracy: 0.9991 - val_loss: 2.0973 - val_accuracy: 0.3780\n",
            "Epoch 8/10\n",
            "125/125 [==============================] - 66s 527ms/step - loss: 0.0253 - accuracy: 0.9996 - val_loss: 2.1172 - val_accuracy: 0.3765\n",
            "Epoch 9/10\n",
            "125/125 [==============================] - 69s 550ms/step - loss: 0.0172 - accuracy: 0.9996 - val_loss: 2.1374 - val_accuracy: 0.3755\n",
            "Epoch 10/10\n",
            "125/125 [==============================] - 64s 513ms/step - loss: 0.0125 - accuracy: 0.9997 - val_loss: 2.1557 - val_accuracy: 0.3750\n"
          ]
        },
        {
          "output_type": "execute_result",
          "data": {
            "text/plain": [
              "<keras.callbacks.History at 0x7f1e1c064250>"
            ]
          },
          "metadata": {},
          "execution_count": 42
        }
      ]
    },
    {
      "cell_type": "code",
      "source": [
        "# Evaluate the LSTM model\n",
        "loss, acc = model2.evaluate(finalXtest, y_test_hot)\n",
        "print(\"Accuracy: {:.2f}%\".format(acc * 100))"
      ],
      "metadata": {
        "colab": {
          "base_uri": "https://localhost:8080/"
        },
        "id": "YnapLvSrO9dI",
        "outputId": "12d5807f-863b-434f-aba4-7d705154205b"
      },
      "execution_count": 43,
      "outputs": [
        {
          "output_type": "stream",
          "name": "stdout",
          "text": [
            "63/63 [==============================] - 4s 65ms/step - loss: 2.1557 - accuracy: 0.3750\n",
            "Accuracy: 37.50%\n"
          ]
        }
      ]
    }
  ],
  "metadata": {
    "colab": {
      "provenance": []
    },
    "kernelspec": {
      "display_name": "Python 3",
      "name": "python3"
    },
    "language_info": {
      "codemirror_mode": {
        "name": "ipython",
        "version": 3
      },
      "file_extension": ".py",
      "mimetype": "text/x-python",
      "name": "python",
      "nbconvert_exporter": "python",
      "pygments_lexer": "ipython3",
      "version": "3.9.6"
    }
  },
  "nbformat": 4,
  "nbformat_minor": 0
}